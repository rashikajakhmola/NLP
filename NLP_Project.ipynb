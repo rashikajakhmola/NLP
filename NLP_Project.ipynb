{
  "nbformat": 4,
  "nbformat_minor": 0,
  "metadata": {
    "colab": {
      "provenance": [],
      "include_colab_link": true
    },
    "kernelspec": {
      "name": "python3",
      "display_name": "Python 3"
    },
    "language_info": {
      "name": "python"
    }
  },
  "cells": [
    {
      "cell_type": "markdown",
      "metadata": {
        "id": "view-in-github",
        "colab_type": "text"
      },
      "source": [
        "<a href=\"https://colab.research.google.com/github/rashikajakhmola/NLP/blob/main/NLP_Project.ipynb\" target=\"_parent\"><img src=\"https://colab.research.google.com/assets/colab-badge.svg\" alt=\"Open In Colab\"/></a>"
      ]
    },
    {
      "cell_type": "markdown",
      "source": [
        "### 1. Get Request From User"
      ],
      "metadata": {
        "id": "hxuOEwXrAmJC"
      }
    },
    {
      "cell_type": "markdown",
      "source": [
        "Prompts \n",
        "1. I am planning to order the BMW M8 with a sunroof or panorama glass roof sky lounge, and the M Sport Package on 12th April 2018. Is this configuration possible?\n",
        "\n",
        "2. Hello, is the X7 xDrive40i available without a panorama glass roof and with the EU Comfort Package. I need the vehicle on the 8th of November 2024.\n",
        "\n",
        "3. I want to order a BMW iX with right-hand drive configuration. I will be ordering it at the start of October 2022."
      ],
      "metadata": {
        "id": "fARAHUJWCpBM"
      }
    },
    {
      "cell_type": "code",
      "source": [
        "def get_request():\n",
        "  \n",
        "    user_request = input(\"Please state your request: \")\n",
        "    return user_request\n",
        "\n",
        "init_prompt = get_request()"
      ],
      "metadata": {
        "id": "B9P_gg2C-z5_",
        "outputId": "06f6b1d9-4342-4e72-d422-38012a2fe69d",
        "colab": {
          "base_uri": "https://localhost:8080/"
        }
      },
      "execution_count": null,
      "outputs": [
        {
          "name": "stdout",
          "output_type": "stream",
          "text": [
            "Please state your request: I want to order a BMW iX with right-hand drive configuration. I will be ordering it at the start of October 2022.\n"
          ]
        }
      ]
    },
    {
      "cell_type": "markdown",
      "source": [
        "### 2. Remove Determiners from the User Prompt"
      ],
      "metadata": {
        "id": "ggPlxzf-A21B"
      }
    },
    {
      "cell_type": "code",
      "source": [
        "import spacy\n",
        "\n",
        "def remove_determiners(sentence):\n",
        "    nlp = spacy.load(\"en_core_web_sm\")\n",
        "    doc = nlp(sentence)\n",
        "\n",
        "    # Create a new sentence without determiners\n",
        "    new_sentence = []\n",
        "    for token in doc:\n",
        "        if token.pos_ != 'DET' and token.pos_ != 'PUNCT':  # Exclude determiners and Punctuation marks\n",
        "            new_sentence.append(token.text)\n",
        "\n",
        "    # Join the tokens to form the new sentence\n",
        "    new_sentence = ' '.join(new_sentence)\n",
        "    return new_sentence\n",
        "\n",
        "prompt = remove_determiners(init_prompt)\n",
        "prompt"
      ],
      "metadata": {
        "id": "NVB0j5QqAqrX",
        "colab": {
          "base_uri": "https://localhost:8080/",
          "height": 35
        },
        "outputId": "971baaaf-edc6-4dc2-fbd1-8a785c86b99d"
      },
      "execution_count": null,
      "outputs": [
        {
          "output_type": "execute_result",
          "data": {
            "text/plain": [
              "'I want to order BMW iX with right hand drive configuration I will be ordering it at start of October 2022'"
            ],
            "application/vnd.google.colaboratory.intrinsic+json": {
              "type": "string"
            }
          },
          "metadata": {},
          "execution_count": 91
        }
      ]
    },
    {
      "cell_type": "markdown",
      "source": [
        "### 3. Extract Date from the prompt"
      ],
      "metadata": {
        "id": "1aDvhYgbJXra"
      }
    },
    {
      "cell_type": "code",
      "source": [
        "def extract_dates(sentence):\n",
        "    nlp = spacy.load(\"en_core_web_sm\")\n",
        "    ner = nlp(sentence)\n",
        "    dates = \"\"\n",
        "    \n",
        "    for word in ner.ents:\n",
        "        if word.label_ == \"DATE\":\n",
        "            dates = word.text\n",
        "            break  # Assuming there is only one date in the sentence\n",
        "    \n",
        "    return dates\n",
        "\n",
        "date_prompt = extract_dates(prompt)\n",
        "date_prompt"
      ],
      "metadata": {
        "colab": {
          "base_uri": "https://localhost:8080/",
          "height": 35
        },
        "id": "qF0oiDFwEYS8",
        "outputId": "f20491ff-3b99-488b-b939-8f249f6c41f3"
      },
      "execution_count": null,
      "outputs": [
        {
          "output_type": "execute_result",
          "data": {
            "text/plain": [
              "'October 2022'"
            ],
            "application/vnd.google.colaboratory.intrinsic+json": {
              "type": "string"
            }
          },
          "metadata": {},
          "execution_count": 92
        }
      ]
    },
    {
      "cell_type": "code",
      "source": [
        "from datetime import datetime\n",
        "\n",
        "def convert_date_format(date_string):\n",
        "    # Check if the input has the format 'Month Year' (e.g., 'October 2023')\n",
        "    if len(date_string.split()) == 2:\n",
        "        # Add '1st' to the date string\n",
        "        date_string = '1st ' + date_string\n",
        "\n",
        "    # Remove the ordinal suffix (e.g., 'th', 'rd', etc.)\n",
        "    date_string = date_string.replace('th', '').replace('st', '').replace('nd', '').replace('rd', '')\n",
        "\n",
        "    try:\n",
        "        # Convert the date string to a datetime object using '%d of %B %Y' format\n",
        "        date_object = datetime.strptime(date_string, '%d of %B %Y')\n",
        "    except ValueError:\n",
        "        try:\n",
        "            # If the above format fails, try converting using '%d %B %Y' format\n",
        "            date_object = datetime.strptime(date_string, '%d %B %Y')\n",
        "        except ValueError:\n",
        "            return 'Invalid date format'\n",
        "\n",
        "    # Convert the datetime object to the desired format\n",
        "    formatted_date = date_object.strftime('%Y-%m-%d')\n",
        "\n",
        "    return formatted_date\n",
        "\n",
        "converted_date = convert_date_format(date_prompt)\n",
        "converted_date"
      ],
      "metadata": {
        "colab": {
          "base_uri": "https://localhost:8080/",
          "height": 35
        },
        "id": "TwEbr0-rQZ-Y",
        "outputId": "1e066132-9431-4712-dc2a-0484ce756eda"
      },
      "execution_count": null,
      "outputs": [
        {
          "output_type": "execute_result",
          "data": {
            "text/plain": [
              "'2022-10-01'"
            ],
            "application/vnd.google.colaboratory.intrinsic+json": {
              "type": "string"
            }
          },
          "metadata": {},
          "execution_count": 93
        }
      ]
    },
    {
      "cell_type": "code",
      "source": [
        "def wrap_date_in_dict(date):\n",
        "    return {'dates': [date]}\n",
        "\n",
        "date_dict = wrap_date_in_dict(converted_date)\n",
        "date_dict"
      ],
      "metadata": {
        "colab": {
          "base_uri": "https://localhost:8080/"
        },
        "id": "xIrYxLaMQdGj",
        "outputId": "f3a65c8d-aac4-45c6-b960-80fb729de5b3"
      },
      "execution_count": null,
      "outputs": [
        {
          "output_type": "execute_result",
          "data": {
            "text/plain": [
              "{'dates': ['2022-10-01']}"
            ]
          },
          "metadata": {},
          "execution_count": 94
        }
      ]
    },
    {
      "cell_type": "markdown",
      "source": [
        "### 4. Extract Model From the Prompt"
      ],
      "metadata": {
        "id": "jt0vaNkpMPJF"
      }
    },
    {
      "cell_type": "code",
      "source": [
        "import csv\n",
        "\n",
        "def find_matching_phrases(input_sentence):\n",
        "    matches = {}\n",
        "    first_word_matches = {}\n",
        "\n",
        "    with open('Codes.csv', 'r') as file:\n",
        "        reader = csv.DictReader(file)\n",
        "        for row in reader:\n",
        "            if row['Type'] == 'model':\n",
        "                if row['Description'] in input_sentence:\n",
        "                    matches['modelTypeCodes'] = [row['Description']]\n",
        "                else:\n",
        "                    first_word = row['Description'].split()[0]\n",
        "                    if first_word in input_sentence:\n",
        "                        if 'modelTypeCodes' not in first_word_matches:\n",
        "                            first_word_matches['modelTypeCodes'] = []\n",
        "                        first_word_matches['modelTypeCodes'].append(row['Description'])\n",
        "\n",
        "    if matches:\n",
        "        return matches\n",
        "\n",
        "    return first_word_matches\n",
        "\n",
        "# Example usage\n",
        "model_dict = find_matching_phrases(prompt)\n",
        "model_dict"
      ],
      "metadata": {
        "colab": {
          "base_uri": "https://localhost:8080/"
        },
        "id": "UhPx_SPNjy_P",
        "outputId": "7ee19ddb-6335-4e15-e209-0c1061f53816"
      },
      "execution_count": null,
      "outputs": [
        {
          "output_type": "execute_result",
          "data": {
            "text/plain": [
              "{'modelTypeCodes': ['iX xDrive50', 'iX xDrive40']}"
            ]
          },
          "metadata": {},
          "execution_count": 95
        }
      ]
    },
    {
      "cell_type": "code",
      "source": [
        "import csv\n",
        "\n",
        "def replace_with_abbreviation(data_dict):\n",
        "    # Load CSV data into a dictionary\n",
        "    csv_data = {}\n",
        "    with open('Codes.csv', 'r') as csv_file:\n",
        "        reader = csv.DictReader(csv_file)\n",
        "        for row in reader:\n",
        "            abbreviation = row['Abbreviation']\n",
        "            description = row['Description']\n",
        "            csv_data[description] = abbreviation\n",
        "    \n",
        "    # Iterate over the dictionary values\n",
        "    for key, values in data_dict.items():\n",
        "        for i in range(len(values)):\n",
        "            value = values[i]\n",
        "            if value in csv_data:\n",
        "                values[i] = csv_data[value]\n",
        "    \n",
        "    return data_dict\n",
        "\n",
        "# Example usage\n",
        "fin_model_dict = replace_with_abbreviation(model_dict)\n",
        "fin_model_dict"
      ],
      "metadata": {
        "colab": {
          "base_uri": "https://localhost:8080/"
        },
        "id": "SXO_pDg7oZ4E",
        "outputId": "0b76ba6e-d5eb-48e7-d520-5cfd1e6d87d6"
      },
      "execution_count": null,
      "outputs": [
        {
          "output_type": "execute_result",
          "data": {
            "text/plain": [
              "{'modelTypeCodes': ['21CF', '11CF']}"
            ]
          },
          "metadata": {},
          "execution_count": 96
        }
      ]
    },
    {
      "cell_type": "markdown",
      "source": [
        "### 5. Split the Prompt on Adpositions"
      ],
      "metadata": {
        "id": "7nbDr_YjBQiS"
      }
    },
    {
      "cell_type": "code",
      "source": [
        "def split_sentence(sentence):\n",
        "    result = []\n",
        "    current_item = \"\"\n",
        "    for word in sentence.split():\n",
        "        if word.lower() in ['with', 'without', 'and', 'or', 'and not', 'or not']:\n",
        "            if current_item:\n",
        "                result.append(current_item.strip())\n",
        "                current_item = \"\"\n",
        "        current_item += word + \" \"\n",
        "    if current_item:\n",
        "        result.append(current_item.strip())\n",
        "    return result\n",
        "\n",
        "prompt_list = split_sentence(prompt)\n",
        "prompt_list"
      ],
      "metadata": {
        "colab": {
          "base_uri": "https://localhost:8080/"
        },
        "id": "djoe77vFBNZG",
        "outputId": "17070b6f-acad-42e7-c2ca-1d0596bfe663"
      },
      "execution_count": null,
      "outputs": [
        {
          "output_type": "execute_result",
          "data": {
            "text/plain": [
              "['I want to order BMW iX',\n",
              " 'with right hand drive configuration I will be ordering it at start of October 2022']"
            ]
          },
          "metadata": {},
          "execution_count": 97
        }
      ]
    },
    {
      "cell_type": "markdown",
      "source": [
        "### 6. Create a dataframe with Adpositions and Features"
      ],
      "metadata": {
        "id": "7boR-EupNbLL"
      }
    },
    {
      "cell_type": "code",
      "source": [
        "import pandas as pd\n",
        "\n",
        "def split_phrases(phrases):\n",
        "    adp = ['with', 'without', 'and', 'or', 'and not', 'or not']\n",
        "    df = pd.DataFrame(columns=['Adposition', 'Feature'])\n",
        "\n",
        "    current_adposition = None\n",
        "    current_phrase = ''\n",
        "\n",
        "    for phrase in phrases:\n",
        "        if phrase.startswith(tuple(adp)):\n",
        "            if current_adposition:\n",
        "                df = pd.concat([df, pd.DataFrame({'Adposition': [current_adposition], 'Feature': [current_phrase.strip()]})], ignore_index=True)\n",
        "            parts = phrase.split(' ', 1)\n",
        "            current_adposition = parts[0]\n",
        "            current_phrase = parts[1] if len(parts) > 1 else ''\n",
        "        else:\n",
        "            current_phrase += ' ' + phrase\n",
        "    \n",
        "    if current_adposition:\n",
        "        df = pd.concat([df, pd.DataFrame({'Adposition': [current_adposition], 'Feature': [current_phrase.strip()]})], ignore_index=True)\n",
        "    \n",
        "    return df\n",
        "\n",
        "adp_df = split_phrases(prompt_list)\n",
        "adp_df"
      ],
      "metadata": {
        "colab": {
          "base_uri": "https://localhost:8080/",
          "height": 80
        },
        "id": "DBL30bJQBiYS",
        "outputId": "ab696d1f-8198-459d-b945-9801d1dca53d"
      },
      "execution_count": null,
      "outputs": [
        {
          "output_type": "execute_result",
          "data": {
            "text/plain": [
              "  Adposition                                            Feature\n",
              "0       with  right hand drive configuration I will be order..."
            ],
            "text/html": [
              "\n",
              "  <div id=\"df-07e85540-73b7-4617-925c-ae4b302db61b\">\n",
              "    <div class=\"colab-df-container\">\n",
              "      <div>\n",
              "<style scoped>\n",
              "    .dataframe tbody tr th:only-of-type {\n",
              "        vertical-align: middle;\n",
              "    }\n",
              "\n",
              "    .dataframe tbody tr th {\n",
              "        vertical-align: top;\n",
              "    }\n",
              "\n",
              "    .dataframe thead th {\n",
              "        text-align: right;\n",
              "    }\n",
              "</style>\n",
              "<table border=\"1\" class=\"dataframe\">\n",
              "  <thead>\n",
              "    <tr style=\"text-align: right;\">\n",
              "      <th></th>\n",
              "      <th>Adposition</th>\n",
              "      <th>Feature</th>\n",
              "    </tr>\n",
              "  </thead>\n",
              "  <tbody>\n",
              "    <tr>\n",
              "      <th>0</th>\n",
              "      <td>with</td>\n",
              "      <td>right hand drive configuration I will be order...</td>\n",
              "    </tr>\n",
              "  </tbody>\n",
              "</table>\n",
              "</div>\n",
              "      <button class=\"colab-df-convert\" onclick=\"convertToInteractive('df-07e85540-73b7-4617-925c-ae4b302db61b')\"\n",
              "              title=\"Convert this dataframe to an interactive table.\"\n",
              "              style=\"display:none;\">\n",
              "        \n",
              "  <svg xmlns=\"http://www.w3.org/2000/svg\" height=\"24px\"viewBox=\"0 0 24 24\"\n",
              "       width=\"24px\">\n",
              "    <path d=\"M0 0h24v24H0V0z\" fill=\"none\"/>\n",
              "    <path d=\"M18.56 5.44l.94 2.06.94-2.06 2.06-.94-2.06-.94-.94-2.06-.94 2.06-2.06.94zm-11 1L8.5 8.5l.94-2.06 2.06-.94-2.06-.94L8.5 2.5l-.94 2.06-2.06.94zm10 10l.94 2.06.94-2.06 2.06-.94-2.06-.94-.94-2.06-.94 2.06-2.06.94z\"/><path d=\"M17.41 7.96l-1.37-1.37c-.4-.4-.92-.59-1.43-.59-.52 0-1.04.2-1.43.59L10.3 9.45l-7.72 7.72c-.78.78-.78 2.05 0 2.83L4 21.41c.39.39.9.59 1.41.59.51 0 1.02-.2 1.41-.59l7.78-7.78 2.81-2.81c.8-.78.8-2.07 0-2.86zM5.41 20L4 18.59l7.72-7.72 1.47 1.35L5.41 20z\"/>\n",
              "  </svg>\n",
              "      </button>\n",
              "      \n",
              "  <style>\n",
              "    .colab-df-container {\n",
              "      display:flex;\n",
              "      flex-wrap:wrap;\n",
              "      gap: 12px;\n",
              "    }\n",
              "\n",
              "    .colab-df-convert {\n",
              "      background-color: #E8F0FE;\n",
              "      border: none;\n",
              "      border-radius: 50%;\n",
              "      cursor: pointer;\n",
              "      display: none;\n",
              "      fill: #1967D2;\n",
              "      height: 32px;\n",
              "      padding: 0 0 0 0;\n",
              "      width: 32px;\n",
              "    }\n",
              "\n",
              "    .colab-df-convert:hover {\n",
              "      background-color: #E2EBFA;\n",
              "      box-shadow: 0px 1px 2px rgba(60, 64, 67, 0.3), 0px 1px 3px 1px rgba(60, 64, 67, 0.15);\n",
              "      fill: #174EA6;\n",
              "    }\n",
              "\n",
              "    [theme=dark] .colab-df-convert {\n",
              "      background-color: #3B4455;\n",
              "      fill: #D2E3FC;\n",
              "    }\n",
              "\n",
              "    [theme=dark] .colab-df-convert:hover {\n",
              "      background-color: #434B5C;\n",
              "      box-shadow: 0px 1px 3px 1px rgba(0, 0, 0, 0.15);\n",
              "      filter: drop-shadow(0px 1px 2px rgba(0, 0, 0, 0.3));\n",
              "      fill: #FFFFFF;\n",
              "    }\n",
              "  </style>\n",
              "\n",
              "      <script>\n",
              "        const buttonEl =\n",
              "          document.querySelector('#df-07e85540-73b7-4617-925c-ae4b302db61b button.colab-df-convert');\n",
              "        buttonEl.style.display =\n",
              "          google.colab.kernel.accessAllowed ? 'block' : 'none';\n",
              "\n",
              "        async function convertToInteractive(key) {\n",
              "          const element = document.querySelector('#df-07e85540-73b7-4617-925c-ae4b302db61b');\n",
              "          const dataTable =\n",
              "            await google.colab.kernel.invokeFunction('convertToInteractive',\n",
              "                                                     [key], {});\n",
              "          if (!dataTable) return;\n",
              "\n",
              "          const docLinkHtml = 'Like what you see? Visit the ' +\n",
              "            '<a target=\"_blank\" href=https://colab.research.google.com/notebooks/data_table.ipynb>data table notebook</a>'\n",
              "            + ' to learn more about interactive tables.';\n",
              "          element.innerHTML = '';\n",
              "          dataTable['output_type'] = 'display_data';\n",
              "          await google.colab.output.renderOutput(dataTable, element);\n",
              "          const docLink = document.createElement('div');\n",
              "          docLink.innerHTML = docLinkHtml;\n",
              "          element.appendChild(docLink);\n",
              "        }\n",
              "      </script>\n",
              "    </div>\n",
              "  </div>\n",
              "  "
            ]
          },
          "metadata": {},
          "execution_count": 98
        }
      ]
    },
    {
      "cell_type": "markdown",
      "source": [
        "### 7. Update the Dataframe by Comparing Feature names to CSV File"
      ],
      "metadata": {
        "id": "ZywgeAwDNj6F"
      }
    },
    {
      "cell_type": "code",
      "source": [
        "import pandas as pd\n",
        "from itertools import permutations\n",
        "\n",
        "def update_dataframe(csv_file, dataframe):\n",
        "    # Read the CSV file\n",
        "    csv_data = pd.read_csv(csv_file)\n",
        "    \n",
        "    # Convert the 'Description' column to a list\n",
        "    descriptions = csv_data['Description'].tolist()\n",
        "    \n",
        "    # Iterate over each row in the dataframe\n",
        "    for index, row in dataframe.iterrows():\n",
        "        feature = row['Feature']\n",
        "        \n",
        "        # Check if the feature is blank or contains only whitespace\n",
        "        if pd.isna(feature) or feature.strip() == \"\":\n",
        "            dataframe.drop(index, inplace=True)\n",
        "            continue\n",
        "        \n",
        "        # Iterate over each description in the CSV\n",
        "        for description in descriptions:\n",
        "            \n",
        "            # Generate all possible permutations of the description\n",
        "            perms = [' '.join(p) for p in permutations(description.lower().split()) ]\n",
        "            \n",
        "            # Check if any permutation of the description is in the feature\n",
        "            if any(perm in feature.lower() or description.lower() == feature.lower() for perm in perms):\n",
        "                # Replace the feature with the description\n",
        "                dataframe.at[index, 'Feature'] = description\n",
        "                break\n",
        "    \n",
        "    dataframe = dataframe.dropna(subset=['Feature'])\n",
        "\n",
        "    return dataframe\n",
        "\n",
        "csv_file = 'Codes.csv'\n",
        "\n",
        "updated_df = update_dataframe(csv_file, adp_df)\n",
        "updated_df"
      ],
      "metadata": {
        "colab": {
          "base_uri": "https://localhost:8080/",
          "height": 80
        },
        "id": "lQBjKfhEMhRf",
        "outputId": "4289115b-be6f-4dda-f54e-3890434f8964"
      },
      "execution_count": null,
      "outputs": [
        {
          "output_type": "execute_result",
          "data": {
            "text/plain": [
              "  Adposition           Feature\n",
              "0       with  Right Hand Drive"
            ],
            "text/html": [
              "\n",
              "  <div id=\"df-d163fadf-9e93-44b4-8622-9e1c6296d954\">\n",
              "    <div class=\"colab-df-container\">\n",
              "      <div>\n",
              "<style scoped>\n",
              "    .dataframe tbody tr th:only-of-type {\n",
              "        vertical-align: middle;\n",
              "    }\n",
              "\n",
              "    .dataframe tbody tr th {\n",
              "        vertical-align: top;\n",
              "    }\n",
              "\n",
              "    .dataframe thead th {\n",
              "        text-align: right;\n",
              "    }\n",
              "</style>\n",
              "<table border=\"1\" class=\"dataframe\">\n",
              "  <thead>\n",
              "    <tr style=\"text-align: right;\">\n",
              "      <th></th>\n",
              "      <th>Adposition</th>\n",
              "      <th>Feature</th>\n",
              "    </tr>\n",
              "  </thead>\n",
              "  <tbody>\n",
              "    <tr>\n",
              "      <th>0</th>\n",
              "      <td>with</td>\n",
              "      <td>Right Hand Drive</td>\n",
              "    </tr>\n",
              "  </tbody>\n",
              "</table>\n",
              "</div>\n",
              "      <button class=\"colab-df-convert\" onclick=\"convertToInteractive('df-d163fadf-9e93-44b4-8622-9e1c6296d954')\"\n",
              "              title=\"Convert this dataframe to an interactive table.\"\n",
              "              style=\"display:none;\">\n",
              "        \n",
              "  <svg xmlns=\"http://www.w3.org/2000/svg\" height=\"24px\"viewBox=\"0 0 24 24\"\n",
              "       width=\"24px\">\n",
              "    <path d=\"M0 0h24v24H0V0z\" fill=\"none\"/>\n",
              "    <path d=\"M18.56 5.44l.94 2.06.94-2.06 2.06-.94-2.06-.94-.94-2.06-.94 2.06-2.06.94zm-11 1L8.5 8.5l.94-2.06 2.06-.94-2.06-.94L8.5 2.5l-.94 2.06-2.06.94zm10 10l.94 2.06.94-2.06 2.06-.94-2.06-.94-.94-2.06-.94 2.06-2.06.94z\"/><path d=\"M17.41 7.96l-1.37-1.37c-.4-.4-.92-.59-1.43-.59-.52 0-1.04.2-1.43.59L10.3 9.45l-7.72 7.72c-.78.78-.78 2.05 0 2.83L4 21.41c.39.39.9.59 1.41.59.51 0 1.02-.2 1.41-.59l7.78-7.78 2.81-2.81c.8-.78.8-2.07 0-2.86zM5.41 20L4 18.59l7.72-7.72 1.47 1.35L5.41 20z\"/>\n",
              "  </svg>\n",
              "      </button>\n",
              "      \n",
              "  <style>\n",
              "    .colab-df-container {\n",
              "      display:flex;\n",
              "      flex-wrap:wrap;\n",
              "      gap: 12px;\n",
              "    }\n",
              "\n",
              "    .colab-df-convert {\n",
              "      background-color: #E8F0FE;\n",
              "      border: none;\n",
              "      border-radius: 50%;\n",
              "      cursor: pointer;\n",
              "      display: none;\n",
              "      fill: #1967D2;\n",
              "      height: 32px;\n",
              "      padding: 0 0 0 0;\n",
              "      width: 32px;\n",
              "    }\n",
              "\n",
              "    .colab-df-convert:hover {\n",
              "      background-color: #E2EBFA;\n",
              "      box-shadow: 0px 1px 2px rgba(60, 64, 67, 0.3), 0px 1px 3px 1px rgba(60, 64, 67, 0.15);\n",
              "      fill: #174EA6;\n",
              "    }\n",
              "\n",
              "    [theme=dark] .colab-df-convert {\n",
              "      background-color: #3B4455;\n",
              "      fill: #D2E3FC;\n",
              "    }\n",
              "\n",
              "    [theme=dark] .colab-df-convert:hover {\n",
              "      background-color: #434B5C;\n",
              "      box-shadow: 0px 1px 3px 1px rgba(0, 0, 0, 0.15);\n",
              "      filter: drop-shadow(0px 1px 2px rgba(0, 0, 0, 0.3));\n",
              "      fill: #FFFFFF;\n",
              "    }\n",
              "  </style>\n",
              "\n",
              "      <script>\n",
              "        const buttonEl =\n",
              "          document.querySelector('#df-d163fadf-9e93-44b4-8622-9e1c6296d954 button.colab-df-convert');\n",
              "        buttonEl.style.display =\n",
              "          google.colab.kernel.accessAllowed ? 'block' : 'none';\n",
              "\n",
              "        async function convertToInteractive(key) {\n",
              "          const element = document.querySelector('#df-d163fadf-9e93-44b4-8622-9e1c6296d954');\n",
              "          const dataTable =\n",
              "            await google.colab.kernel.invokeFunction('convertToInteractive',\n",
              "                                                     [key], {});\n",
              "          if (!dataTable) return;\n",
              "\n",
              "          const docLinkHtml = 'Like what you see? Visit the ' +\n",
              "            '<a target=\"_blank\" href=https://colab.research.google.com/notebooks/data_table.ipynb>data table notebook</a>'\n",
              "            + ' to learn more about interactive tables.';\n",
              "          element.innerHTML = '';\n",
              "          dataTable['output_type'] = 'display_data';\n",
              "          await google.colab.output.renderOutput(dataTable, element);\n",
              "          const docLink = document.createElement('div');\n",
              "          docLink.innerHTML = docLinkHtml;\n",
              "          element.appendChild(docLink);\n",
              "        }\n",
              "      </script>\n",
              "    </div>\n",
              "  </div>\n",
              "  "
            ]
          },
          "metadata": {},
          "execution_count": 99
        }
      ]
    },
    {
      "cell_type": "markdown",
      "source": [
        "### 8. Add Feature_Type column to the dataframe"
      ],
      "metadata": {
        "id": "PmA6D7IpUez_"
      }
    },
    {
      "cell_type": "code",
      "source": [
        "import pandas as pd\n",
        "\n",
        "def add_feature_type(dataframe, csv_file):\n",
        "    # Read the CSV file into a dataframe\n",
        "    csv_data = pd.read_csv(csv_file)\n",
        "    \n",
        "    # Create a dictionary mapping features to their types\n",
        "    feature_type_mapping = dict(zip(csv_data['Description'], csv_data['Type']))\n",
        "    \n",
        "    # Initialize an empty list to store the feature types\n",
        "    feature_types = []\n",
        "    \n",
        "    # Iterate over the rows of the input dataframe\n",
        "    for index, row in dataframe.iterrows():\n",
        "        feature = row['Feature']\n",
        "        \n",
        "        # Check if the feature is present in the mapping dictionary\n",
        "        if feature in feature_type_mapping:\n",
        "            feature_type = feature_type_mapping[feature]\n",
        "        else:\n",
        "            feature_type = ''\n",
        "        \n",
        "        feature_types.append(feature_type)\n",
        "    \n",
        "    # Add the 'Feature_Type' column to the input dataframe\n",
        "    dataframe['Feature_Type'] = feature_types\n",
        "    \n",
        "    return dataframe\n",
        "\n",
        "csv_file_path = 'Codes.csv'\n",
        "output_df = add_feature_type(updated_df, csv_file_path)\n",
        "output_df"
      ],
      "metadata": {
        "id": "jHHMBYD5M-H8",
        "colab": {
          "base_uri": "https://localhost:8080/",
          "height": 80
        },
        "outputId": "d5e7cffe-75b4-4ccd-f636-4c17cfbf6e95"
      },
      "execution_count": null,
      "outputs": [
        {
          "output_type": "execute_result",
          "data": {
            "text/plain": [
              "  Adposition           Feature           Feature_Type\n",
              "0       with  Right Hand Drive  steering_wheel_config"
            ],
            "text/html": [
              "\n",
              "  <div id=\"df-d92f93aa-047e-4e78-ab21-1615c8fdc7f8\">\n",
              "    <div class=\"colab-df-container\">\n",
              "      <div>\n",
              "<style scoped>\n",
              "    .dataframe tbody tr th:only-of-type {\n",
              "        vertical-align: middle;\n",
              "    }\n",
              "\n",
              "    .dataframe tbody tr th {\n",
              "        vertical-align: top;\n",
              "    }\n",
              "\n",
              "    .dataframe thead th {\n",
              "        text-align: right;\n",
              "    }\n",
              "</style>\n",
              "<table border=\"1\" class=\"dataframe\">\n",
              "  <thead>\n",
              "    <tr style=\"text-align: right;\">\n",
              "      <th></th>\n",
              "      <th>Adposition</th>\n",
              "      <th>Feature</th>\n",
              "      <th>Feature_Type</th>\n",
              "    </tr>\n",
              "  </thead>\n",
              "  <tbody>\n",
              "    <tr>\n",
              "      <th>0</th>\n",
              "      <td>with</td>\n",
              "      <td>Right Hand Drive</td>\n",
              "      <td>steering_wheel_config</td>\n",
              "    </tr>\n",
              "  </tbody>\n",
              "</table>\n",
              "</div>\n",
              "      <button class=\"colab-df-convert\" onclick=\"convertToInteractive('df-d92f93aa-047e-4e78-ab21-1615c8fdc7f8')\"\n",
              "              title=\"Convert this dataframe to an interactive table.\"\n",
              "              style=\"display:none;\">\n",
              "        \n",
              "  <svg xmlns=\"http://www.w3.org/2000/svg\" height=\"24px\"viewBox=\"0 0 24 24\"\n",
              "       width=\"24px\">\n",
              "    <path d=\"M0 0h24v24H0V0z\" fill=\"none\"/>\n",
              "    <path d=\"M18.56 5.44l.94 2.06.94-2.06 2.06-.94-2.06-.94-.94-2.06-.94 2.06-2.06.94zm-11 1L8.5 8.5l.94-2.06 2.06-.94-2.06-.94L8.5 2.5l-.94 2.06-2.06.94zm10 10l.94 2.06.94-2.06 2.06-.94-2.06-.94-.94-2.06-.94 2.06-2.06.94z\"/><path d=\"M17.41 7.96l-1.37-1.37c-.4-.4-.92-.59-1.43-.59-.52 0-1.04.2-1.43.59L10.3 9.45l-7.72 7.72c-.78.78-.78 2.05 0 2.83L4 21.41c.39.39.9.59 1.41.59.51 0 1.02-.2 1.41-.59l7.78-7.78 2.81-2.81c.8-.78.8-2.07 0-2.86zM5.41 20L4 18.59l7.72-7.72 1.47 1.35L5.41 20z\"/>\n",
              "  </svg>\n",
              "      </button>\n",
              "      \n",
              "  <style>\n",
              "    .colab-df-container {\n",
              "      display:flex;\n",
              "      flex-wrap:wrap;\n",
              "      gap: 12px;\n",
              "    }\n",
              "\n",
              "    .colab-df-convert {\n",
              "      background-color: #E8F0FE;\n",
              "      border: none;\n",
              "      border-radius: 50%;\n",
              "      cursor: pointer;\n",
              "      display: none;\n",
              "      fill: #1967D2;\n",
              "      height: 32px;\n",
              "      padding: 0 0 0 0;\n",
              "      width: 32px;\n",
              "    }\n",
              "\n",
              "    .colab-df-convert:hover {\n",
              "      background-color: #E2EBFA;\n",
              "      box-shadow: 0px 1px 2px rgba(60, 64, 67, 0.3), 0px 1px 3px 1px rgba(60, 64, 67, 0.15);\n",
              "      fill: #174EA6;\n",
              "    }\n",
              "\n",
              "    [theme=dark] .colab-df-convert {\n",
              "      background-color: #3B4455;\n",
              "      fill: #D2E3FC;\n",
              "    }\n",
              "\n",
              "    [theme=dark] .colab-df-convert:hover {\n",
              "      background-color: #434B5C;\n",
              "      box-shadow: 0px 1px 3px 1px rgba(0, 0, 0, 0.15);\n",
              "      filter: drop-shadow(0px 1px 2px rgba(0, 0, 0, 0.3));\n",
              "      fill: #FFFFFF;\n",
              "    }\n",
              "  </style>\n",
              "\n",
              "      <script>\n",
              "        const buttonEl =\n",
              "          document.querySelector('#df-d92f93aa-047e-4e78-ab21-1615c8fdc7f8 button.colab-df-convert');\n",
              "        buttonEl.style.display =\n",
              "          google.colab.kernel.accessAllowed ? 'block' : 'none';\n",
              "\n",
              "        async function convertToInteractive(key) {\n",
              "          const element = document.querySelector('#df-d92f93aa-047e-4e78-ab21-1615c8fdc7f8');\n",
              "          const dataTable =\n",
              "            await google.colab.kernel.invokeFunction('convertToInteractive',\n",
              "                                                     [key], {});\n",
              "          if (!dataTable) return;\n",
              "\n",
              "          const docLinkHtml = 'Like what you see? Visit the ' +\n",
              "            '<a target=\"_blank\" href=https://colab.research.google.com/notebooks/data_table.ipynb>data table notebook</a>'\n",
              "            + ' to learn more about interactive tables.';\n",
              "          element.innerHTML = '';\n",
              "          dataTable['output_type'] = 'display_data';\n",
              "          await google.colab.output.renderOutput(dataTable, element);\n",
              "          const docLink = document.createElement('div');\n",
              "          docLink.innerHTML = docLinkHtml;\n",
              "          element.appendChild(docLink);\n",
              "        }\n",
              "      </script>\n",
              "    </div>\n",
              "  </div>\n",
              "  "
            ]
          },
          "metadata": {},
          "execution_count": 100
        }
      ]
    },
    {
      "cell_type": "markdown",
      "source": [
        "### 9. Convert Features to Abbreviations"
      ],
      "metadata": {
        "id": "3ZRRtOeLdpmV"
      }
    },
    {
      "cell_type": "code",
      "source": [
        "import pandas as pd\n",
        "\n",
        "def replace_features_with_abbreviations(csv_file, dataframe):\n",
        "    # Read the CSV file\n",
        "    csv_data = pd.read_csv(csv_file)\n",
        "    \n",
        "    # Create a dictionary mapping Description to Abbreviation\n",
        "    abbreviation_dict = {\n",
        "        row['Description']: row['Abbreviation']\n",
        "        for _, row in csv_data.iterrows()\n",
        "    }\n",
        "    \n",
        "    # Replace the Feature values in the DataFrame with Abbreviation values\n",
        "    dataframe['Feature'] = dataframe['Feature'].map(abbreviation_dict).fillna(dataframe['Feature'])\n",
        "    \n",
        "    return dataframe\n",
        "\n",
        "csv_file = 'Codes.csv'\n",
        "codes_df = replace_features_with_abbreviations(csv_file, output_df)\n",
        "codes_df"
      ],
      "metadata": {
        "colab": {
          "base_uri": "https://localhost:8080/",
          "height": 80
        },
        "id": "V-uCss85b2VR",
        "outputId": "d5c544dc-add5-48f3-ea1b-a5298b24086d"
      },
      "execution_count": null,
      "outputs": [
        {
          "output_type": "execute_result",
          "data": {
            "text/plain": [
              "  Adposition Feature           Feature_Type\n",
              "0       with      RL  steering_wheel_config"
            ],
            "text/html": [
              "\n",
              "  <div id=\"df-79e91422-cec8-4577-92b1-762699898b35\">\n",
              "    <div class=\"colab-df-container\">\n",
              "      <div>\n",
              "<style scoped>\n",
              "    .dataframe tbody tr th:only-of-type {\n",
              "        vertical-align: middle;\n",
              "    }\n",
              "\n",
              "    .dataframe tbody tr th {\n",
              "        vertical-align: top;\n",
              "    }\n",
              "\n",
              "    .dataframe thead th {\n",
              "        text-align: right;\n",
              "    }\n",
              "</style>\n",
              "<table border=\"1\" class=\"dataframe\">\n",
              "  <thead>\n",
              "    <tr style=\"text-align: right;\">\n",
              "      <th></th>\n",
              "      <th>Adposition</th>\n",
              "      <th>Feature</th>\n",
              "      <th>Feature_Type</th>\n",
              "    </tr>\n",
              "  </thead>\n",
              "  <tbody>\n",
              "    <tr>\n",
              "      <th>0</th>\n",
              "      <td>with</td>\n",
              "      <td>RL</td>\n",
              "      <td>steering_wheel_config</td>\n",
              "    </tr>\n",
              "  </tbody>\n",
              "</table>\n",
              "</div>\n",
              "      <button class=\"colab-df-convert\" onclick=\"convertToInteractive('df-79e91422-cec8-4577-92b1-762699898b35')\"\n",
              "              title=\"Convert this dataframe to an interactive table.\"\n",
              "              style=\"display:none;\">\n",
              "        \n",
              "  <svg xmlns=\"http://www.w3.org/2000/svg\" height=\"24px\"viewBox=\"0 0 24 24\"\n",
              "       width=\"24px\">\n",
              "    <path d=\"M0 0h24v24H0V0z\" fill=\"none\"/>\n",
              "    <path d=\"M18.56 5.44l.94 2.06.94-2.06 2.06-.94-2.06-.94-.94-2.06-.94 2.06-2.06.94zm-11 1L8.5 8.5l.94-2.06 2.06-.94-2.06-.94L8.5 2.5l-.94 2.06-2.06.94zm10 10l.94 2.06.94-2.06 2.06-.94-2.06-.94-.94-2.06-.94 2.06-2.06.94z\"/><path d=\"M17.41 7.96l-1.37-1.37c-.4-.4-.92-.59-1.43-.59-.52 0-1.04.2-1.43.59L10.3 9.45l-7.72 7.72c-.78.78-.78 2.05 0 2.83L4 21.41c.39.39.9.59 1.41.59.51 0 1.02-.2 1.41-.59l7.78-7.78 2.81-2.81c.8-.78.8-2.07 0-2.86zM5.41 20L4 18.59l7.72-7.72 1.47 1.35L5.41 20z\"/>\n",
              "  </svg>\n",
              "      </button>\n",
              "      \n",
              "  <style>\n",
              "    .colab-df-container {\n",
              "      display:flex;\n",
              "      flex-wrap:wrap;\n",
              "      gap: 12px;\n",
              "    }\n",
              "\n",
              "    .colab-df-convert {\n",
              "      background-color: #E8F0FE;\n",
              "      border: none;\n",
              "      border-radius: 50%;\n",
              "      cursor: pointer;\n",
              "      display: none;\n",
              "      fill: #1967D2;\n",
              "      height: 32px;\n",
              "      padding: 0 0 0 0;\n",
              "      width: 32px;\n",
              "    }\n",
              "\n",
              "    .colab-df-convert:hover {\n",
              "      background-color: #E2EBFA;\n",
              "      box-shadow: 0px 1px 2px rgba(60, 64, 67, 0.3), 0px 1px 3px 1px rgba(60, 64, 67, 0.15);\n",
              "      fill: #174EA6;\n",
              "    }\n",
              "\n",
              "    [theme=dark] .colab-df-convert {\n",
              "      background-color: #3B4455;\n",
              "      fill: #D2E3FC;\n",
              "    }\n",
              "\n",
              "    [theme=dark] .colab-df-convert:hover {\n",
              "      background-color: #434B5C;\n",
              "      box-shadow: 0px 1px 3px 1px rgba(0, 0, 0, 0.15);\n",
              "      filter: drop-shadow(0px 1px 2px rgba(0, 0, 0, 0.3));\n",
              "      fill: #FFFFFF;\n",
              "    }\n",
              "  </style>\n",
              "\n",
              "      <script>\n",
              "        const buttonEl =\n",
              "          document.querySelector('#df-79e91422-cec8-4577-92b1-762699898b35 button.colab-df-convert');\n",
              "        buttonEl.style.display =\n",
              "          google.colab.kernel.accessAllowed ? 'block' : 'none';\n",
              "\n",
              "        async function convertToInteractive(key) {\n",
              "          const element = document.querySelector('#df-79e91422-cec8-4577-92b1-762699898b35');\n",
              "          const dataTable =\n",
              "            await google.colab.kernel.invokeFunction('convertToInteractive',\n",
              "                                                     [key], {});\n",
              "          if (!dataTable) return;\n",
              "\n",
              "          const docLinkHtml = 'Like what you see? Visit the ' +\n",
              "            '<a target=\"_blank\" href=https://colab.research.google.com/notebooks/data_table.ipynb>data table notebook</a>'\n",
              "            + ' to learn more about interactive tables.';\n",
              "          element.innerHTML = '';\n",
              "          dataTable['output_type'] = 'display_data';\n",
              "          await google.colab.output.renderOutput(dataTable, element);\n",
              "          const docLink = document.createElement('div');\n",
              "          docLink.innerHTML = docLinkHtml;\n",
              "          element.appendChild(docLink);\n",
              "        }\n",
              "      </script>\n",
              "    </div>\n",
              "  </div>\n",
              "  "
            ]
          },
          "metadata": {},
          "execution_count": 101
        }
      ]
    },
    {
      "cell_type": "code",
      "source": [
        "import pandas as pd\n",
        "\n",
        "def combine_columns(df):\n",
        "    df['Adp+Feature'] = df['Adposition'] + ' ' + df['Feature']\n",
        "    df.drop(['Adposition', 'Feature'], axis=1, inplace=True)\n",
        "    return df\n",
        "\n",
        "result_df = combine_columns(codes_df)\n",
        "result_df"
      ],
      "metadata": {
        "colab": {
          "base_uri": "https://localhost:8080/",
          "height": 80
        },
        "id": "KrdVXxdJO1MX",
        "outputId": "0b28f20e-4b02-42db-ce26-367153b15a98"
      },
      "execution_count": null,
      "outputs": [
        {
          "output_type": "execute_result",
          "data": {
            "text/plain": [
              "            Feature_Type Adp+Feature\n",
              "0  steering_wheel_config     with RL"
            ],
            "text/html": [
              "\n",
              "  <div id=\"df-64be853f-a159-494b-a751-a37833600772\">\n",
              "    <div class=\"colab-df-container\">\n",
              "      <div>\n",
              "<style scoped>\n",
              "    .dataframe tbody tr th:only-of-type {\n",
              "        vertical-align: middle;\n",
              "    }\n",
              "\n",
              "    .dataframe tbody tr th {\n",
              "        vertical-align: top;\n",
              "    }\n",
              "\n",
              "    .dataframe thead th {\n",
              "        text-align: right;\n",
              "    }\n",
              "</style>\n",
              "<table border=\"1\" class=\"dataframe\">\n",
              "  <thead>\n",
              "    <tr style=\"text-align: right;\">\n",
              "      <th></th>\n",
              "      <th>Feature_Type</th>\n",
              "      <th>Adp+Feature</th>\n",
              "    </tr>\n",
              "  </thead>\n",
              "  <tbody>\n",
              "    <tr>\n",
              "      <th>0</th>\n",
              "      <td>steering_wheel_config</td>\n",
              "      <td>with RL</td>\n",
              "    </tr>\n",
              "  </tbody>\n",
              "</table>\n",
              "</div>\n",
              "      <button class=\"colab-df-convert\" onclick=\"convertToInteractive('df-64be853f-a159-494b-a751-a37833600772')\"\n",
              "              title=\"Convert this dataframe to an interactive table.\"\n",
              "              style=\"display:none;\">\n",
              "        \n",
              "  <svg xmlns=\"http://www.w3.org/2000/svg\" height=\"24px\"viewBox=\"0 0 24 24\"\n",
              "       width=\"24px\">\n",
              "    <path d=\"M0 0h24v24H0V0z\" fill=\"none\"/>\n",
              "    <path d=\"M18.56 5.44l.94 2.06.94-2.06 2.06-.94-2.06-.94-.94-2.06-.94 2.06-2.06.94zm-11 1L8.5 8.5l.94-2.06 2.06-.94-2.06-.94L8.5 2.5l-.94 2.06-2.06.94zm10 10l.94 2.06.94-2.06 2.06-.94-2.06-.94-.94-2.06-.94 2.06-2.06.94z\"/><path d=\"M17.41 7.96l-1.37-1.37c-.4-.4-.92-.59-1.43-.59-.52 0-1.04.2-1.43.59L10.3 9.45l-7.72 7.72c-.78.78-.78 2.05 0 2.83L4 21.41c.39.39.9.59 1.41.59.51 0 1.02-.2 1.41-.59l7.78-7.78 2.81-2.81c.8-.78.8-2.07 0-2.86zM5.41 20L4 18.59l7.72-7.72 1.47 1.35L5.41 20z\"/>\n",
              "  </svg>\n",
              "      </button>\n",
              "      \n",
              "  <style>\n",
              "    .colab-df-container {\n",
              "      display:flex;\n",
              "      flex-wrap:wrap;\n",
              "      gap: 12px;\n",
              "    }\n",
              "\n",
              "    .colab-df-convert {\n",
              "      background-color: #E8F0FE;\n",
              "      border: none;\n",
              "      border-radius: 50%;\n",
              "      cursor: pointer;\n",
              "      display: none;\n",
              "      fill: #1967D2;\n",
              "      height: 32px;\n",
              "      padding: 0 0 0 0;\n",
              "      width: 32px;\n",
              "    }\n",
              "\n",
              "    .colab-df-convert:hover {\n",
              "      background-color: #E2EBFA;\n",
              "      box-shadow: 0px 1px 2px rgba(60, 64, 67, 0.3), 0px 1px 3px 1px rgba(60, 64, 67, 0.15);\n",
              "      fill: #174EA6;\n",
              "    }\n",
              "\n",
              "    [theme=dark] .colab-df-convert {\n",
              "      background-color: #3B4455;\n",
              "      fill: #D2E3FC;\n",
              "    }\n",
              "\n",
              "    [theme=dark] .colab-df-convert:hover {\n",
              "      background-color: #434B5C;\n",
              "      box-shadow: 0px 1px 3px 1px rgba(0, 0, 0, 0.15);\n",
              "      filter: drop-shadow(0px 1px 2px rgba(0, 0, 0, 0.3));\n",
              "      fill: #FFFFFF;\n",
              "    }\n",
              "  </style>\n",
              "\n",
              "      <script>\n",
              "        const buttonEl =\n",
              "          document.querySelector('#df-64be853f-a159-494b-a751-a37833600772 button.colab-df-convert');\n",
              "        buttonEl.style.display =\n",
              "          google.colab.kernel.accessAllowed ? 'block' : 'none';\n",
              "\n",
              "        async function convertToInteractive(key) {\n",
              "          const element = document.querySelector('#df-64be853f-a159-494b-a751-a37833600772');\n",
              "          const dataTable =\n",
              "            await google.colab.kernel.invokeFunction('convertToInteractive',\n",
              "                                                     [key], {});\n",
              "          if (!dataTable) return;\n",
              "\n",
              "          const docLinkHtml = 'Like what you see? Visit the ' +\n",
              "            '<a target=\"_blank\" href=https://colab.research.google.com/notebooks/data_table.ipynb>data table notebook</a>'\n",
              "            + ' to learn more about interactive tables.';\n",
              "          element.innerHTML = '';\n",
              "          dataTable['output_type'] = 'display_data';\n",
              "          await google.colab.output.renderOutput(dataTable, element);\n",
              "          const docLink = document.createElement('div');\n",
              "          docLink.innerHTML = docLinkHtml;\n",
              "          element.appendChild(docLink);\n",
              "        }\n",
              "      </script>\n",
              "    </div>\n",
              "  </div>\n",
              "  "
            ]
          },
          "metadata": {},
          "execution_count": 102
        }
      ]
    },
    {
      "cell_type": "markdown",
      "source": [
        "### 10. Convert the Dataframe into a List of Features"
      ],
      "metadata": {
        "id": "lmZybo9GWLe8"
      }
    },
    {
      "cell_type": "code",
      "source": [
        "import pandas as pd\n",
        "\n",
        "def combine_features(dataframe):\n",
        "    result_dict = {}\n",
        "    for index, row in dataframe.iterrows():\n",
        "        feature_type = row['Feature_Type']\n",
        "        adp_feature = row['Adp+Feature']\n",
        "        \n",
        "        if feature_type in result_dict:\n",
        "            result_dict[feature_type] += \" \" + adp_feature\n",
        "        else:\n",
        "            result_dict[feature_type] = adp_feature\n",
        "    \n",
        "    return result_dict\n",
        "    \n",
        "feature_dict = combine_features(result_df)\n",
        "feature_dict"
      ],
      "metadata": {
        "id": "4AMzWvGySyqF",
        "colab": {
          "base_uri": "https://localhost:8080/"
        },
        "outputId": "3b4ea0a3-11c7-4f76-a003-3f0d3dc9cd17"
      },
      "execution_count": null,
      "outputs": [
        {
          "output_type": "execute_result",
          "data": {
            "text/plain": [
              "{'steering_wheel_config': 'with RL'}"
            ]
          },
          "metadata": {},
          "execution_count": 103
        }
      ]
    },
    {
      "cell_type": "markdown",
      "source": [
        "### 11. Translate the Adpositions into Boolean Operators"
      ],
      "metadata": {
        "id": "sF8k6LE6WTAz"
      }
    },
    {
      "cell_type": "code",
      "source": [
        "import re\n",
        "\n",
        "def replace_words(input_dict):\n",
        "    operator_map = {\n",
        "        \"and\": \"+\",\n",
        "        \"with\": \"+\",\n",
        "        \"without\": \"-\",\n",
        "        \"or\": \"/\",\n",
        "        \"and not\": \"+-\",\n",
        "        \"or not\": \"/-\"\n",
        "    }\n",
        "\n",
        "    output_dict = {}\n",
        "    for key, value in input_dict.items():\n",
        "        for word, operator in operator_map.items():\n",
        "            pattern = re.compile(r'\\b' + re.escape(word) + r'\\b', re.IGNORECASE)\n",
        "            value = re.sub(pattern, operator, value)\n",
        "        output_dict[key] = value\n",
        "\n",
        "    return output_dict\n",
        "    \n",
        "boolean_dict = replace_words(feature_dict)\n",
        "boolean_dict"
      ],
      "metadata": {
        "id": "xdplRzePif3s",
        "colab": {
          "base_uri": "https://localhost:8080/"
        },
        "outputId": "943a0bd1-f3bd-4312-e743-8d370b05ff37"
      },
      "execution_count": null,
      "outputs": [
        {
          "output_type": "execute_result",
          "data": {
            "text/plain": [
              "{'steering_wheel_config': '+ RL'}"
            ]
          },
          "metadata": {},
          "execution_count": 104
        }
      ]
    },
    {
      "cell_type": "code",
      "source": [
        "def process_dictionary(input_dict):\n",
        "    output_dict = {}\n",
        "    \n",
        "    for key, value in input_dict.items():\n",
        "        if ('+' in value and '/' in value) or ('-' in value and '/' in value) or ('+-' in value and '/' in value):\n",
        "            # Find the index of the '/' character\n",
        "            index = value.index('/')\n",
        "            \n",
        "            # Replace the term before '/' with '(term before /'\n",
        "            term_before = value[:index].split()[-1]\n",
        "            value = value.replace(term_before, '(' + term_before)\n",
        "            \n",
        "            # Replace the term after '/' with 'term after /)'\n",
        "            term_after = value[index + 1:].strip()\n",
        "            value = value.replace(term_after, term_after + ')')\n",
        "        \n",
        "        output_dict[key] = value\n",
        "    \n",
        "    return output_dict\n",
        "\n",
        "fin_bool_dict = process_dictionary(boolean_dict)\n",
        "fin_bool_dict"
      ],
      "metadata": {
        "colab": {
          "base_uri": "https://localhost:8080/"
        },
        "id": "rpvmf7HT8Cck",
        "outputId": "bda45608-645e-4376-f613-8b55c8f78315"
      },
      "execution_count": null,
      "outputs": [
        {
          "output_type": "execute_result",
          "data": {
            "text/plain": [
              "{'steering_wheel_config': '+ RL'}"
            ]
          },
          "metadata": {},
          "execution_count": 105
        }
      ]
    },
    {
      "cell_type": "code",
      "source": [
        "def combine_values(dictionary):\n",
        "    combined_value = ''.join(dictionary.values())\n",
        "    output = {'booleanFormulas': [combined_value]}\n",
        "    return output\n",
        "\n",
        "bool_form_dict = combine_values(fin_bool_dict)\n",
        "bool_form_dict"
      ],
      "metadata": {
        "colab": {
          "base_uri": "https://localhost:8080/"
        },
        "id": "aCNnEeJl_lLk",
        "outputId": "49c1e4cb-7469-4edf-c84c-389584f837d5"
      },
      "execution_count": null,
      "outputs": [
        {
          "output_type": "execute_result",
          "data": {
            "text/plain": [
              "{'booleanFormulas': ['+ RL']}"
            ]
          },
          "metadata": {},
          "execution_count": 106
        }
      ]
    },
    {
      "cell_type": "markdown",
      "source": [
        "### 12. Combine all 3 dictionaries into the Final Request Body"
      ],
      "metadata": {
        "id": "OtmvakyK_X9B"
      }
    },
    {
      "cell_type": "code",
      "source": [
        "def combine_and_split_dictionaries(*dicts):\n",
        "    result = []\n",
        "    model_type_codes = dicts[0]['modelTypeCodes']\n",
        "    \n",
        "    if len(model_type_codes) > 1:\n",
        "        for code in model_type_codes:\n",
        "            new_dict = {}\n",
        "            for key, value in dicts[0].items():\n",
        "                if key == 'modelTypeCodes':\n",
        "                    new_dict[key] = [code]\n",
        "                else:\n",
        "                    new_dict[key] = value\n",
        "            result.append(new_dict)\n",
        "    else:\n",
        "        result.append(dicts[0])\n",
        "    \n",
        "    for i in range(1, len(dicts)):\n",
        "        for j in range(len(result)):\n",
        "            for key, value in dicts[i].items():\n",
        "                result[j][key] = value\n",
        "    \n",
        "    return result\n",
        "\n",
        "request_body = combine_and_split_dictionaries(fin_model_dict, bool_form_dict,date_dict)\n",
        "request_body"
      ],
      "metadata": {
        "colab": {
          "base_uri": "https://localhost:8080/"
        },
        "id": "cVk_gQeFsgS9",
        "outputId": "3d183435-a8ac-4821-c3e0-0bb8cc439b0f"
      },
      "execution_count": null,
      "outputs": [
        {
          "output_type": "execute_result",
          "data": {
            "text/plain": [
              "[{'modelTypeCodes': ['21CF'],\n",
              "  'booleanFormulas': ['+ RL'],\n",
              "  'dates': ['2022-10-01']},\n",
              " {'modelTypeCodes': ['11CF'],\n",
              "  'booleanFormulas': ['+ RL'],\n",
              "  'dates': ['2022-10-01']}]"
            ]
          },
          "metadata": {},
          "execution_count": 107
        }
      ]
    }
  ]
}